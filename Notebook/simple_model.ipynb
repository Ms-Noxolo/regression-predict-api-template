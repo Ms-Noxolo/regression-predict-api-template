l{
 "cells": [
  {
   "cell_type": "code",
   "execution_count": 166,
   "metadata": {},
   "outputs": [],
   "source": [
    "# importing the libraries\n",
    "import numpy as np\n",
    "import matplotlib.pyplot as plt\n",
    "import pandas as pd"
   ]
  },
  {
   "cell_type": "code",
   "execution_count": 167,
   "metadata": {},
   "outputs": [],
   "source": [
    "# Importing the data\n",
    "train = pd.read_csv('Train.csv')\n",
    "test = pd.read_csv('Test.csv')\n",
    "riders_data = pd.read_csv('Riders.csv')\n",
    "train = train.drop('Order No', axis=1)"
   ]
  },
  {
   "cell_type": "code",
   "execution_count": 168,
   "metadata": {},
   "outputs": [
    {
     "data": {
      "text/plain": [
       "(21201, 28)"
      ]
     },
     "execution_count": 168,
     "metadata": {},
     "output_type": "execute_result"
    }
   ],
   "source": [
    "# Investigating the dataset\n",
    "train.shape"
   ]
  },
  {
   "cell_type": "code",
   "execution_count": 169,
   "metadata": {},
   "outputs": [
    {
     "data": {
      "text/plain": [
       "(7068, 25)"
      ]
     },
     "execution_count": 169,
     "metadata": {},
     "output_type": "execute_result"
    }
   ],
   "source": [
    "# Investigating the dataset\n",
    "test.shape"
   ]
  },
  {
   "cell_type": "code",
   "execution_count": 170,
   "metadata": {},
   "outputs": [
    {
     "name": "stdout",
     "output_type": "stream",
     "text": [
      "<class 'pandas.core.frame.DataFrame'>\n",
      "RangeIndex: 21201 entries, 0 to 21200\n",
      "Data columns (total 28 columns):\n",
      " #   Column                                     Non-Null Count  Dtype  \n",
      "---  ------                                     --------------  -----  \n",
      " 0   User Id                                    21201 non-null  object \n",
      " 1   Vehicle Type                               21201 non-null  object \n",
      " 2   Platform Type                              21201 non-null  int64  \n",
      " 3   Personal or Business                       21201 non-null  object \n",
      " 4   Placement - Day of Month                   21201 non-null  int64  \n",
      " 5   Placement - Weekday (Mo = 1)               21201 non-null  int64  \n",
      " 6   Placement - Time                           21201 non-null  object \n",
      " 7   Confirmation - Day of Month                21201 non-null  int64  \n",
      " 8   Confirmation - Weekday (Mo = 1)            21201 non-null  int64  \n",
      " 9   Confirmation - Time                        21201 non-null  object \n",
      " 10  Arrival at Pickup - Day of Month           21201 non-null  int64  \n",
      " 11  Arrival at Pickup - Weekday (Mo = 1)       21201 non-null  int64  \n",
      " 12  Arrival at Pickup - Time                   21201 non-null  object \n",
      " 13  Pickup - Day of Month                      21201 non-null  int64  \n",
      " 14  Pickup - Weekday (Mo = 1)                  21201 non-null  int64  \n",
      " 15  Pickup - Time                              21201 non-null  object \n",
      " 16  Arrival at Destination - Day of Month      21201 non-null  int64  \n",
      " 17  Arrival at Destination - Weekday (Mo = 1)  21201 non-null  int64  \n",
      " 18  Arrival at Destination - Time              21201 non-null  object \n",
      " 19  Distance (KM)                              21201 non-null  int64  \n",
      " 20  Temperature                                16835 non-null  float64\n",
      " 21  Precipitation in millimeters               552 non-null    float64\n",
      " 22  Pickup Lat                                 21201 non-null  float64\n",
      " 23  Pickup Long                                21201 non-null  float64\n",
      " 24  Destination Lat                            21201 non-null  float64\n",
      " 25  Destination Long                           21201 non-null  float64\n",
      " 26  Rider Id                                   21201 non-null  object \n",
      " 27  Time from Pickup to Arrival                21201 non-null  int64  \n",
      "dtypes: float64(6), int64(13), object(9)\n",
      "memory usage: 4.5+ MB\n"
     ]
    }
   ],
   "source": [
    "# Getting more information about the dataset\n",
    "train.info()"
   ]
  },
  {
   "cell_type": "code",
   "execution_count": 171,
   "metadata": {},
   "outputs": [],
   "source": [
    "# Grouping the columns according to their types\n",
    "numeric_features = train.select_dtypes(include=['int64', 'float64']).drop(['Arrival at Destination - Day of Month', 'Arrival at Destination - Weekday (Mo = 1)', 'Time from Pickup to Arrival'], axis=1).columns\n",
    "categorical_features = train.select_dtypes(include=['object']).columns"
   ]
  },
  {
   "cell_type": "code",
   "execution_count": 172,
   "metadata": {},
   "outputs": [
    {
     "data": {
      "text/plain": [
       "Index(['Platform Type', 'Placement - Day of Month',\n",
       "       'Placement - Weekday (Mo = 1)', 'Confirmation - Day of Month',\n",
       "       'Confirmation - Weekday (Mo = 1)', 'Arrival at Pickup - Day of Month',\n",
       "       'Arrival at Pickup - Weekday (Mo = 1)', 'Pickup - Day of Month',\n",
       "       'Pickup - Weekday (Mo = 1)', 'Distance (KM)', 'Temperature',\n",
       "       'Precipitation in millimeters', 'Pickup Lat', 'Pickup Long',\n",
       "       'Destination Lat', 'Destination Long'],\n",
       "      dtype='object')"
      ]
     },
     "execution_count": 172,
     "metadata": {},
     "output_type": "execute_result"
    }
   ],
   "source": [
    "numeric_features"
   ]
  },
  {
   "cell_type": "code",
   "execution_count": 173,
   "metadata": {},
   "outputs": [
    {
     "data": {
      "text/plain": [
       "Index(['User Id', 'Vehicle Type', 'Personal or Business', 'Placement - Time',\n",
       "       'Confirmation - Time', 'Arrival at Pickup - Time', 'Pickup - Time',\n",
       "       'Arrival at Destination - Time', 'Rider Id'],\n",
       "      dtype='object')"
      ]
     },
     "execution_count": 173,
     "metadata": {},
     "output_type": "execute_result"
    }
   ],
   "source": [
    "categorical_features"
   ]
  },
  {
   "cell_type": "code",
   "execution_count": 174,
   "metadata": {},
   "outputs": [],
   "source": [
    "# Creating pipelines using SimpleImputer to handle null values\n",
    "from sklearn.impute import SimpleImputer\n",
    "from sklearn.preprocessing import StandardScaler, OneHotEncoder\n",
    "from sklearn.pipeline import Pipeline\n",
    "\n",
    "transform_numerics = Pipeline(steps=[\n",
    "    ('imputer', SimpleImputer(strategy='mean')),\n",
    "    ('scaler', StandardScaler())])\n",
    "transform_categories = Pipeline(steps=[\n",
    "    ('imputer', SimpleImputer(strategy='constant', fill_value='missing')),\n",
    "    ('onehot', OneHotEncoder(handle_unknown='ignore'))])"
   ]
  },
  {
   "cell_type": "code",
   "execution_count": 175,
   "metadata": {},
   "outputs": [],
   "source": [
    "# Concatenating the numeric and categorical transformers into a single subject\n",
    "\n",
    "from sklearn.compose import ColumnTransformer\n",
    "preprocessor = ColumnTransformer(\n",
    "    transformers=[\n",
    "        ('num', transform_numerics, numeric_features),\n",
    "        ('cat', transform_categories, categorical_features)])"
   ]
  },
  {
   "cell_type": "code",
   "execution_count": 176,
   "metadata": {},
   "outputs": [],
   "source": [
    "# Reordering the columns\n",
    "train = train[['Platform Type', 'Placement - Day of Month', 'Placement - Weekday (Mo = 1)', 'Confirmation - Day of Month', 'Confirmation - Weekday (Mo = 1)', \n",
    "                                     'Arrival at Pickup - Day of Month', 'Arrival at Pickup - Weekday (Mo = 1)', 'Pickup - Day of Month', 'Pickup - Weekday (Mo = 1)', \n",
    "                                     'Distance (KM)','Arrival at Destination - Day of Month', 'Arrival at Destination - Weekday (Mo = 1)', 'Time from Pickup to Arrival']] "
   ]
  },
  {
   "cell_type": "code",
   "execution_count": 177,
   "metadata": {},
   "outputs": [],
   "source": [
    "# Split the train data into a training and test set \n",
    "# This will provide an idea of how well the model is predicting on new data\n",
    "\n",
    "#from sklearn.model_selection import train_test_split\n",
    "#X = train.iloc[:, :-3].values\n",
    "#y = train.iloc[:, -3:].values\n",
    "x = train.drop(['Arrival at Destination - Day of Month', 'Arrival at Destination - Weekday (Mo = 1)', 'Time from Pickup to Arrival'], axis=1)\n",
    "y = train['Time from Pickup to Arrival']\n",
    "X_train, X_test, y_train, y_test = train_test_split(X, y, test_size=0.2)"
   ]
  },
  {
   "cell_type": "code",
   "execution_count": 178,
   "metadata": {},
   "outputs": [],
   "source": [
    "# creating a logistic regression model for transformations before fitting and predicting.\n",
    "from sklearn.linear_model import LogisticRegression\n",
    "lr = Pipeline(steps=[('preprocessor', preprocessor),\n",
    "                      ('classifier', LogisticRegression(solver='lbfgs'))])"
   ]
  },
  {
   "cell_type": "code",
   "execution_count": 179,
   "metadata": {},
   "outputs": [
    {
     "data": {
      "text/plain": [
       "LinearRegression(copy_X=True, fit_intercept=True, n_jobs=None, normalize=False)"
      ]
     },
     "execution_count": 179,
     "metadata": {},
     "output_type": "execute_result"
    }
   ],
   "source": [
    "#  fitting the model on the training set to obtain an accuracy score using the built in score method.\n",
    "#lr.fit(X_train, y_train)\n",
    "#print(\"model score: %.3f\" % lr.score(X_test, y_test))\n",
    "\n",
    "from sklearn.linear_model import LinearRegression\n",
    "lr = LinearRegression()\n",
    "lr.fit(X_train, y_train)\n"
   ]
  },
  {
   "cell_type": "code",
   "execution_count": 157,
   "metadata": {},
   "outputs": [
    {
     "name": "stdout",
     "output_type": "stream",
     "text": [
      "model score: 0.353\n"
     ]
    }
   ],
   "source": [
    "# fitting the model and cross validating perfomance\n",
    "print(\"model score: %.3f\" % lr.score(X_test, y_test))"
   ]
  },
  {
   "cell_type": "code",
   "execution_count": 180,
   "metadata": {},
   "outputs": [],
   "source": [
    "test_pred = test.drop(['User Id'], axis=1)\n",
    "test_pred1 = test['User Id']"
   ]
  },
  {
   "cell_type": "code",
   "execution_count": 182,
   "metadata": {},
   "outputs": [],
   "source": [
    "test = test.select_dtypes(include=['int64']).copy()"
   ]
  },
  {
   "cell_type": "code",
   "execution_count": 194,
   "metadata": {},
   "outputs": [
    {
     "data": {
      "text/plain": [
       "array([1402.87822707, 1112.09697707, 1104.19072707, ..., 1610.06572707,\n",
       "       2412.34697707, 1401.34697707])"
      ]
     },
     "execution_count": 194,
     "metadata": {},
     "output_type": "execute_result"
    }
   ],
   "source": [
    "test_predictions = lr.predict(test)\n",
    "test_predictions"
   ]
  },
  {
   "cell_type": "code",
   "execution_count": 197,
   "metadata": {},
   "outputs": [],
   "source": [
    "submission = pd.read_csv('SampleSubmission.csv')\n"
   ]
  },
  {
   "cell_type": "code",
   "execution_count": null,
   "metadata": {},
   "outputs": [],
   "source": [
    "''''for row in range(3, len(submission)):\n",
    "    submission.loc[row, 'Time from Pickup to Arrival'] = test_predictions[row:][0][0] ''''"
   ]
  },
  {
   "cell_type": "code",
   "execution_count": 193,
   "metadata": {},
   "outputs": [],
   "source": [
    "#submission.to.csv('linear_model.csv', index=False)"
   ]
  }
 ],
 "metadata": {
  "kernelspec": {
   "display_name": "Python 3",
   "language": "python",
   "name": "python3"
  },
  "language_info": {
   "codemirror_mode": {
    "name": "ipython",
    "version": 3
   },
   "file_extension": ".py",
   "mimetype": "text/x-python",
   "name": "python",
   "nbconvert_exporter": "python",
   "pygments_lexer": "ipython3",
   "version": "3.7.3"
  }
 },
 "nbformat": 4,
 "nbformat_minor": 4
}
